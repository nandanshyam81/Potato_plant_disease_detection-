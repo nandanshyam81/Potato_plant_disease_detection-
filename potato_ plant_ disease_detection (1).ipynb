{
 "cells": [
  {
   "cell_type": "markdown",
   "id": "5a6b5da7",
   "metadata": {},
   "source": [
    "### Importing Important Libraries For Diease Detection"
   ]
  },
  {
   "cell_type": "code",
   "execution_count": 1,
   "id": "c4a29c06",
   "metadata": {},
   "outputs": [],
   "source": [
    "import tensorflow as tf \n",
    "from tensorflow import keras\n",
    "import matplotlib.pyplot as plt"
   ]
  },
  {
   "cell_type": "markdown",
   "id": "16857fef",
   "metadata": {},
   "source": [
    "### Importing Datasets From Directory"
   ]
  },
  {
   "cell_type": "code",
   "execution_count": 2,
   "id": "a364dfa3",
   "metadata": {},
   "outputs": [
    {
     "name": "stdout",
     "output_type": "stream",
     "text": [
      "Found 2152 files belonging to 3 classes.\n"
     ]
    }
   ],
   "source": [
    "data_set=tf.keras.preprocessing.image_dataset_from_directory('C:\\\\Users\\\\SHYAM\\\\plant_dataset\\\\PlantVillage',image_size=(256,256),batch_size=32)"
   ]
  },
  {
   "cell_type": "markdown",
   "id": "5b668b18",
   "metadata": {},
   "source": [
    "### These data is in form of batches each batch has 32 unit of images with parameter shuffling and has 3 different classes"
   ]
  },
  {
   "cell_type": "code",
   "execution_count": 3,
   "id": "7c9d6bc7",
   "metadata": {},
   "outputs": [],
   "source": [
    "class_names=data_set.class_names"
   ]
  },
  {
   "cell_type": "code",
   "execution_count": 4,
   "id": "ee77ff94",
   "metadata": {},
   "outputs": [
    {
     "data": {
      "text/plain": [
       "['Potato___Early_blight', 'Potato___Late_blight', 'Potato___healthy']"
      ]
     },
     "execution_count": 4,
     "metadata": {},
     "output_type": "execute_result"
    }
   ],
   "source": [
    "class_names"
   ]
  },
  {
   "cell_type": "markdown",
   "id": "15b48946",
   "metadata": {},
   "source": [
    "### _________ Define funtion : splitting testing ,validation and training data set________"
   ]
  },
  {
   "cell_type": "code",
   "execution_count": 5,
   "id": "2dfa2bae",
   "metadata": {},
   "outputs": [],
   "source": [
    "def test_train_split(data,train_size=0.8,test_size=0.1,val_score=.10,shuffle=True,shuffle_size=10000):\n",
    "    \n",
    "    \n",
    "    if shuffle:\n",
    "        data=data.shuffle(shuffle_size,seed=12)\n",
    "        \n",
    "    train_size1=int(len(data)*train_size)\n",
    "    test_size1=int(len(data)*test_size)\n",
    "    valid_size=int(len(data)*val_score)\n",
    "        \n",
    "    ds_train=data.take(train_size1)\n",
    "    ds_test=data.skip(train_size1).take(test_size1)\n",
    "    ds_validate=data.skip(train_size1).skip(valid_size)\n",
    "    \n",
    "    return ds_train,ds_test,ds_validate"
   ]
  },
  {
   "cell_type": "code",
   "execution_count": 6,
   "id": "48869bf2",
   "metadata": {},
   "outputs": [],
   "source": [
    "x_train,x_test,x_validate=test_train_split(data_set)"
   ]
  },
  {
   "cell_type": "markdown",
   "id": "acdffa45",
   "metadata": {},
   "source": [
    "#### With use of Funtion  __Prefetch() and __cache() we improve time and efficiency of Model and                                                   __buffer_size tells how many batch of file will get loaded beforehand in to CPU in this case its autotuned according to tf pipeline"
   ]
  },
  {
   "cell_type": "code",
   "execution_count": 7,
   "id": "5068b4fa",
   "metadata": {},
   "outputs": [],
   "source": [
    "x_train=x_train.cache().shuffle(10000).prefetch(buffer_size=tf.data.AUTOTUNE)"
   ]
  },
  {
   "cell_type": "code",
   "execution_count": 8,
   "id": "77b51438",
   "metadata": {},
   "outputs": [],
   "source": [
    "x_test=x_test.cache().shuffle(10000).prefetch(buffer_size=tf.data.AUTOTUNE)"
   ]
  },
  {
   "cell_type": "code",
   "execution_count": 9,
   "id": "27290d49",
   "metadata": {},
   "outputs": [],
   "source": [
    "x_validate=x_validate.cache().shuffle(10000).prefetch(buffer_size=tf.data.AUTOTUNE)"
   ]
  },
  {
   "cell_type": "markdown",
   "id": "71edf940",
   "metadata": {},
   "source": [
    "## __Image preprocessing such  as ___Resizing() , ___Rescaling(), ___flipping(), and__Rotating() "
   ]
  },
  {
   "cell_type": "code",
   "execution_count": 10,
   "id": "8edf50d9",
   "metadata": {},
   "outputs": [],
   "source": [
    "data_resize_rescale=tf.keras.Sequential([\n",
    "   keras.layers.experimental.preprocessing.Resizing(256,256),\n",
    "   keras.layers.experimental.preprocessing.Rescaling(1.0/255)\n",
    "])"
   ]
  },
  {
   "cell_type": "code",
   "execution_count": 11,
   "id": "8f10c3d6",
   "metadata": {},
   "outputs": [],
   "source": [
    "data_augumatation=tf.keras.Sequential([\n",
    "   keras.layers.experimental.preprocessing.RandomFlip('horizontal_and_vertical'),\n",
    "   keras.layers.experimental.preprocessing.RandomRotation(0.2)\n",
    "])"
   ]
  },
  {
   "cell_type": "markdown",
   "id": "352ccdd5",
   "metadata": {},
   "source": [
    "### Making CNN MODEL"
   ]
  },
  {
   "cell_type": "code",
   "execution_count": 12,
   "id": "eabf2623",
   "metadata": {},
   "outputs": [],
   "source": [
    "model=keras.models.Sequential([data_resize_rescale,\n",
    "                              data_augumatation,\n",
    "                              keras.layers.Conv2D(filters=32,kernel_size=(3,3),activation='relu',input_shape=(32,256,256,3)),\n",
    "                              keras.layers.MaxPooling2D((2,2)),\n",
    "                              keras.layers.Conv2D(64,kernel_size=(3,3),activation='relu') ,\n",
    "                              keras.layers.MaxPooling2D((2,2)),\n",
    "                              keras.layers.Conv2D(64,kernel_size=(3,3),activation='relu'),\n",
    "                              keras.layers.MaxPooling2D((2,2)),\n",
    "                              keras.layers.Conv2D(64,kernel_size=(3,3),activation='relu'),\n",
    "                              keras.layers.MaxPooling2D((2,2)),\n",
    "                               keras.layers.Conv2D(64,kernel_size=(3,3),activation='relu'),\n",
    "                              keras.layers.MaxPooling2D((2,2)),\n",
    "                               keras.layers.Conv2D(64,kernel_size=(3,3),activation='relu'),\n",
    "                              keras.layers.MaxPooling2D((2,2)),\n",
    "                               keras.layers.Flatten(),\n",
    "                               keras.layers.Dense(64,activation='relu'),\n",
    "                              keras.layers.Dense(3,activation='softmax') ,\n",
    "                              ])"
   ]
  },
  {
   "cell_type": "code",
   "execution_count": 13,
   "id": "e529a506",
   "metadata": {},
   "outputs": [],
   "source": [
    "model.build((32,256,256,3))"
   ]
  },
  {
   "cell_type": "code",
   "execution_count": 14,
   "id": "fd75f83a",
   "metadata": {
    "scrolled": true
   },
   "outputs": [
    {
     "name": "stdout",
     "output_type": "stream",
     "text": [
      "Model: \"sequential_2\"\n",
      "_________________________________________________________________\n",
      " Layer (type)                Output Shape              Param #   \n",
      "=================================================================\n",
      " sequential (Sequential)     (32, 256, 256, 3)         0         \n",
      "                                                                 \n",
      " sequential_1 (Sequential)   (32, 256, 256, 3)         0         \n",
      "                                                                 \n",
      " conv2d (Conv2D)             (32, 254, 254, 32)        896       \n",
      "                                                                 \n",
      " max_pooling2d (MaxPooling2D  (32, 127, 127, 32)       0         \n",
      " )                                                               \n",
      "                                                                 \n",
      " conv2d_1 (Conv2D)           (32, 125, 125, 64)        18496     \n",
      "                                                                 \n",
      " max_pooling2d_1 (MaxPooling  (32, 62, 62, 64)         0         \n",
      " 2D)                                                             \n",
      "                                                                 \n",
      " conv2d_2 (Conv2D)           (32, 60, 60, 64)          36928     \n",
      "                                                                 \n",
      " max_pooling2d_2 (MaxPooling  (32, 30, 30, 64)         0         \n",
      " 2D)                                                             \n",
      "                                                                 \n",
      " conv2d_3 (Conv2D)           (32, 28, 28, 64)          36928     \n",
      "                                                                 \n",
      " max_pooling2d_3 (MaxPooling  (32, 14, 14, 64)         0         \n",
      " 2D)                                                             \n",
      "                                                                 \n",
      " conv2d_4 (Conv2D)           (32, 12, 12, 64)          36928     \n",
      "                                                                 \n",
      " max_pooling2d_4 (MaxPooling  (32, 6, 6, 64)           0         \n",
      " 2D)                                                             \n",
      "                                                                 \n",
      " conv2d_5 (Conv2D)           (32, 4, 4, 64)            36928     \n",
      "                                                                 \n",
      " max_pooling2d_5 (MaxPooling  (32, 2, 2, 64)           0         \n",
      " 2D)                                                             \n",
      "                                                                 \n",
      " flatten (Flatten)           (32, 256)                 0         \n",
      "                                                                 \n",
      " dense (Dense)               (32, 64)                  16448     \n",
      "                                                                 \n",
      " dense_1 (Dense)             (32, 3)                   195       \n",
      "                                                                 \n",
      "=================================================================\n",
      "Total params: 183,747\n",
      "Trainable params: 183,747\n",
      "Non-trainable params: 0\n",
      "_________________________________________________________________\n"
     ]
    }
   ],
   "source": [
    "model.summary()"
   ]
  },
  {
   "cell_type": "code",
   "execution_count": 15,
   "id": "c7960817",
   "metadata": {},
   "outputs": [],
   "source": [
    "model.compile(optimizer='adam',loss=tf.keras.losses.SparseCategoricalCrossentropy(from_logits=False),metrics=['accuracy'])"
   ]
  },
  {
   "cell_type": "code",
   "execution_count": 16,
   "id": "ab5cb928",
   "metadata": {},
   "outputs": [
    {
     "name": "stdout",
     "output_type": "stream",
     "text": [
      "Epoch 1/10\n",
      "54/54 [==============================] - 163s 3s/step - loss: 0.9232 - accuracy: 0.5110 - val_loss: 0.8591 - val_accuracy: 0.5078\n",
      "Epoch 2/10\n",
      "54/54 [==============================] - 126s 2s/step - loss: 0.7276 - accuracy: 0.6817 - val_loss: 0.5884 - val_accuracy: 0.7539\n",
      "Epoch 3/10\n",
      "54/54 [==============================] - 142s 3s/step - loss: 0.4970 - accuracy: 0.7951 - val_loss: 0.5093 - val_accuracy: 0.8008\n",
      "Epoch 4/10\n",
      "54/54 [==============================] - 134s 2s/step - loss: 0.3592 - accuracy: 0.8692 - val_loss: 0.4540 - val_accuracy: 0.8320\n",
      "Epoch 5/10\n",
      "54/54 [==============================] - 119s 2s/step - loss: 0.2616 - accuracy: 0.9051 - val_loss: 0.2481 - val_accuracy: 0.8867\n",
      "Epoch 6/10\n",
      "54/54 [==============================] - 134s 2s/step - loss: 0.2424 - accuracy: 0.9045 - val_loss: 0.1684 - val_accuracy: 0.9297\n",
      "Epoch 7/10\n",
      "54/54 [==============================] - 126s 2s/step - loss: 0.1804 - accuracy: 0.9271 - val_loss: 0.1695 - val_accuracy: 0.9180\n",
      "Epoch 8/10\n",
      "54/54 [==============================] - 125s 2s/step - loss: 0.2227 - accuracy: 0.9184 - val_loss: 0.3786 - val_accuracy: 0.8438\n",
      "Epoch 9/10\n",
      "54/54 [==============================] - 126s 2s/step - loss: 0.1968 - accuracy: 0.9201 - val_loss: 0.2330 - val_accuracy: 0.9062\n",
      "Epoch 10/10\n",
      "54/54 [==============================] - 138s 3s/step - loss: 0.1489 - accuracy: 0.9427 - val_loss: 0.1548 - val_accuracy: 0.9492\n"
     ]
    }
   ],
   "source": [
    "history=model.fit(x_train,epochs=10,batch_size=32,verbose=1,validation_data=x_validate)"
   ]
  },
  {
   "cell_type": "code",
   "execution_count": 18,
   "id": "ee2975a8",
   "metadata": {},
   "outputs": [
    {
     "name": "stdout",
     "output_type": "stream",
     "text": [
      "6/6 [==============================] - 2s 304ms/step\n"
     ]
    }
   ],
   "source": [
    "predicted=model.predict(x_test)"
   ]
  },
  {
   "cell_type": "code",
   "execution_count": 44,
   "id": "e2c05149",
   "metadata": {},
   "outputs": [
    {
     "data": {
      "text/plain": [
       "numpy.ndarray"
      ]
     },
     "execution_count": 44,
     "metadata": {},
     "output_type": "execute_result"
    }
   ],
   "source": [
    "type(predicted)"
   ]
  },
  {
   "cell_type": "markdown",
   "id": "aea38bc4",
   "metadata": {},
   "source": [
    "### checking for Prediction of test data"
   ]
  },
  {
   "cell_type": "code",
   "execution_count": 49,
   "id": "6e31af2b",
   "metadata": {},
   "outputs": [
    {
     "name": "stdout",
     "output_type": "stream",
     "text": [
      "Potato___Late_blight\n",
      "Potato___Early_blight\n",
      "Potato___Late_blight\n",
      "Potato___Early_blight\n",
      "Potato___Early_blight\n",
      "Potato___Early_blight\n",
      "Potato___Late_blight\n",
      "Potato___Early_blight\n",
      "Potato___Early_blight\n",
      "Potato___Late_blight\n",
      "Potato___Late_blight\n",
      "Potato___Early_blight\n",
      "Potato___Late_blight\n",
      "Potato___Early_blight\n",
      "Potato___Early_blight\n",
      "Potato___Late_blight\n",
      "Potato___Late_blight\n",
      "Potato___Late_blight\n",
      "Potato___Early_blight\n",
      "Potato___healthy\n",
      "Potato___Late_blight\n",
      "Potato___Late_blight\n",
      "Potato___Early_blight\n",
      "Potato___Early_blight\n",
      "Potato___Early_blight\n",
      "Potato___Early_blight\n",
      "Potato___Early_blight\n",
      "Potato___Late_blight\n",
      "Potato___Early_blight\n",
      "Potato___Early_blight\n",
      "Potato___Late_blight\n",
      "Potato___Late_blight\n",
      "Potato___Early_blight\n",
      "Potato___Early_blight\n",
      "Potato___Late_blight\n",
      "Potato___Late_blight\n",
      "Potato___Early_blight\n",
      "Potato___Late_blight\n",
      "Potato___Early_blight\n",
      "Potato___Early_blight\n",
      "Potato___Early_blight\n",
      "Potato___healthy\n",
      "Potato___Late_blight\n",
      "Potato___Late_blight\n",
      "Potato___Early_blight\n",
      "Potato___Late_blight\n",
      "Potato___Early_blight\n",
      "Potato___Early_blight\n",
      "Potato___Early_blight\n",
      "Potato___Late_blight\n",
      "Potato___Early_blight\n",
      "Potato___Late_blight\n",
      "Potato___Early_blight\n",
      "Potato___Early_blight\n",
      "Potato___Early_blight\n",
      "Potato___Late_blight\n",
      "Potato___Early_blight\n",
      "Potato___Late_blight\n",
      "Potato___Late_blight\n",
      "Potato___healthy\n",
      "Potato___Late_blight\n",
      "Potato___Late_blight\n",
      "Potato___Late_blight\n",
      "Potato___Late_blight\n",
      "Potato___Early_blight\n",
      "Potato___Early_blight\n",
      "Potato___Late_blight\n",
      "Potato___Late_blight\n",
      "Potato___Early_blight\n",
      "Potato___Early_blight\n",
      "Potato___Early_blight\n",
      "Potato___Late_blight\n",
      "Potato___Early_blight\n",
      "Potato___Early_blight\n",
      "Potato___Late_blight\n",
      "Potato___Late_blight\n",
      "Potato___Early_blight\n",
      "Potato___Early_blight\n",
      "Potato___Early_blight\n",
      "Potato___healthy\n",
      "Potato___Late_blight\n",
      "Potato___Early_blight\n",
      "Potato___Early_blight\n",
      "Potato___Late_blight\n",
      "Potato___Early_blight\n",
      "Potato___Early_blight\n",
      "Potato___healthy\n",
      "Potato___Early_blight\n",
      "Potato___Late_blight\n",
      "Potato___Late_blight\n",
      "Potato___Late_blight\n",
      "Potato___Early_blight\n",
      "Potato___Early_blight\n",
      "Potato___Early_blight\n",
      "Potato___Early_blight\n",
      "Potato___Late_blight\n",
      "Potato___Late_blight\n",
      "Potato___healthy\n",
      "Potato___healthy\n",
      "Potato___Late_blight\n",
      "Potato___Early_blight\n",
      "Potato___Late_blight\n",
      "Potato___Late_blight\n",
      "Potato___Late_blight\n",
      "Potato___Late_blight\n",
      "Potato___Late_blight\n",
      "Potato___Early_blight\n",
      "Potato___Late_blight\n",
      "Potato___Early_blight\n",
      "Potato___Early_blight\n",
      "Potato___Early_blight\n",
      "Potato___Early_blight\n",
      "Potato___Late_blight\n",
      "Potato___Early_blight\n",
      "Potato___Early_blight\n",
      "Potato___Late_blight\n",
      "Potato___Late_blight\n",
      "Potato___Late_blight\n",
      "Potato___Early_blight\n",
      "Potato___Late_blight\n",
      "Potato___Early_blight\n",
      "Potato___Early_blight\n",
      "Potato___Early_blight\n",
      "Potato___Late_blight\n",
      "Potato___Early_blight\n",
      "Potato___Late_blight\n",
      "Potato___Late_blight\n",
      "Potato___Late_blight\n",
      "Potato___Early_blight\n",
      "Potato___Late_blight\n",
      "Potato___Late_blight\n",
      "Potato___Late_blight\n",
      "Potato___healthy\n",
      "Potato___Late_blight\n",
      "Potato___Late_blight\n",
      "Potato___Early_blight\n",
      "Potato___Late_blight\n",
      "Potato___Early_blight\n",
      "Potato___Early_blight\n",
      "Potato___Late_blight\n",
      "Potato___Early_blight\n",
      "Potato___Late_blight\n",
      "Potato___Late_blight\n",
      "Potato___Late_blight\n",
      "Potato___Late_blight\n",
      "Potato___Late_blight\n",
      "Potato___Late_blight\n",
      "Potato___Early_blight\n",
      "Potato___Early_blight\n",
      "Potato___Early_blight\n",
      "Potato___healthy\n",
      "Potato___Early_blight\n",
      "Potato___Early_blight\n",
      "Potato___Early_blight\n",
      "Potato___Early_blight\n",
      "Potato___Late_blight\n",
      "Potato___Early_blight\n",
      "Potato___Early_blight\n",
      "Potato___Late_blight\n",
      "Potato___healthy\n",
      "Potato___Late_blight\n",
      "Potato___Late_blight\n",
      "Potato___Late_blight\n",
      "Potato___healthy\n",
      "Potato___Late_blight\n",
      "Potato___Late_blight\n",
      "Potato___healthy\n",
      "Potato___Late_blight\n",
      "Potato___Late_blight\n",
      "Potato___Late_blight\n",
      "Potato___Early_blight\n",
      "Potato___Early_blight\n",
      "Potato___Early_blight\n",
      "Potato___Early_blight\n",
      "Potato___Early_blight\n",
      "Potato___Early_blight\n",
      "Potato___Early_blight\n",
      "Potato___Late_blight\n",
      "Potato___Late_blight\n",
      "Potato___Late_blight\n",
      "Potato___Late_blight\n",
      "Potato___Late_blight\n",
      "Potato___healthy\n",
      "Potato___Late_blight\n",
      "Potato___Early_blight\n",
      "Potato___Late_blight\n",
      "Potato___Late_blight\n",
      "Potato___Late_blight\n",
      "Potato___Early_blight\n",
      "Potato___Early_blight\n",
      "Potato___Late_blight\n",
      "Potato___Late_blight\n"
     ]
    }
   ],
   "source": [
    "for i in range(len(predicted)):\n",
    "    print(class_names[np.argmax(predicted[i])])"
   ]
  },
  {
   "cell_type": "code",
   "execution_count": null,
   "id": "b3729d79",
   "metadata": {},
   "outputs": [],
   "source": []
  }
 ],
 "metadata": {
  "kernelspec": {
   "display_name": "Python 3 (ipykernel)",
   "language": "python",
   "name": "python3"
  },
  "language_info": {
   "codemirror_mode": {
    "name": "ipython",
    "version": 3
   },
   "file_extension": ".py",
   "mimetype": "text/x-python",
   "name": "python",
   "nbconvert_exporter": "python",
   "pygments_lexer": "ipython3",
   "version": "3.9.7"
  }
 },
 "nbformat": 4,
 "nbformat_minor": 5
}
